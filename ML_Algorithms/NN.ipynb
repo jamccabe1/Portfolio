{
 "cells": [
  {
   "cell_type": "markdown",
   "metadata": {},
   "source": [
    "# Neural Networks (NNs)\n",
    "\n",
    "Author: Jacob McCabe\n",
    "\n",
    "## Overview\n",
    "\n",
    "This notebook will take a look at Neural Networks. The main ideas covered will include:\n",
    "\n",
    "1. What is a Neural Network?\n",
    "2. Layers\n",
    "3. Forward Propagation\n",
    "4. Backward Propagation\n",
    "5. Minibatching\n",
    "6. Example using `Sequential` model from `Tensorflow.keras`\n",
    "\n",
    "## What is a Neural Network?\n",
    "\n",
    "This branch of models within machine learning utilizes a series of linear combinations followed by activation functions. This allows for the models to find complex, nonlinear relationships between features. These models rely on training data and generally improve their accuracy over time. \n",
    "\n",
    "A basic single-hidden-layer neural network is composed of an input layer, a hidden layer, and an output layer.\n",
    "\n",
    "<img src=\"images\\shl_nn_diagram.png\" height='50%' width='50%'>\n",
    "\n",
    "## Layers\n",
    "\n",
    "\n",
    "## Forward Propagation\n",
    "\n",
    "\n",
    "## Backward Propagation\n",
    "\n",
    "\n",
    "## Minibatching\n",
    "\n",
    "\n",
    "## Example using `Sequential` model from `TensorFlow.keras`\n",
    "\n"
   ]
  }
 ],
 "metadata": {
  "language_info": {
   "name": "python"
  },
  "orig_nbformat": 4
 },
 "nbformat": 4,
 "nbformat_minor": 2
}
