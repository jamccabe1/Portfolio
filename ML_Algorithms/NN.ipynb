{
 "cells": [
  {
   "cell_type": "markdown",
   "metadata": {},
   "source": [
    "# Neural Networks\n",
    "\n",
    "Author: Jacob McCabe\n",
    "\n",
    "## Overview\n",
    "\n",
    "This notebook will take a look at Neural Networks (NNs). The main ideas covered will include:\n",
    "\n",
    "1. What is a Neural Network?\n",
    "2. Nodes & Layers\n",
    "3. Forward Propagation\n",
    "4. Loss\n",
    "5. Backward Propagation\n",
    "6. Gradient Descent\n",
    "7. Example using `Sequential` model from `Tensorflow.keras`\n",
    "\n",
    "## What is a Neural Network?\n",
    "\n",
    "This branch of models within machine learning is supposedly meant to mimic the way brains work by utilizing a dense connection of nodes (sometimes call neurons) to find complex, nonlinear relationships between features. These models rely on training data to determine a series of weights and biases, and generally improve their accuracy over time. To do this, a dataset is first split into two subsets: training and test. We are only going to consider NNs for supervised learning, meaning we assume all data points have a corresponding output.\n",
    "\n",
    "The training data contains the majority of the data since the goal is to find some generalization that leads to accurate predictions. The training data is composed of features and a target. The features are the input data; in a two-dimensional model of points $(x,y)$, it would be $x$. The target is what we want to predict - the output. In our two-dimensional model it would be $y$. The number of data points in the set is usually represented by $n$.\n",
    "\n",
    "The test data is a smaller subset of the data. Like the training data, there are features and targets that are the in the same dimensional space. The important difference is that when the test set is only used at the very end of experimentation, after the model has been trained. Using it this way allows for a generalization of how well the NN is able to make predictions on new data.\n",
    "\n",
    "The general structure of training a NN is as follows:\n",
    "\n",
    "```\n",
    "train_nn(X, y, n_epochs, learn_rate):\n",
    "    W, b = init_weights()\n",
    "    loss = []\n",
    "\n",
    "    for epoch in 1..n_epoch do\n",
    "        A, Z = forward_propagate(X, W, b)\n",
    "        loss.append(calculate_loss(A, y))\n",
    "        dW, db = back_propagate(W, b, A, Z, y)\n",
    "        W, b = gradient_descent(W, b, dW, db, learn_rate)\n",
    "    od\n",
    "    \n",
    "    return W, b, loss\n",
    "```\n",
    "\n",
    "## Layers\n",
    "\n",
    "A basic single-hidden-layer NN is composed of an **input layer**, a **hidden layer**, and an **output layer**. Each layer is composed of a number nodes that all communicate information to the next layer via a ***pre-activation***  and an ***post-activation***. These are usually called $z_i$ and $a_i$, respectively, for $i\\in[0,l]$ where $l$ is the number of layers. This makes the training data, $x = a_0$. \n",
    "\n",
    "While the size (number of nodes) of the input and output layer are predefined by the specific problem, the model structure can be modified by changing the size and number of hidden layers. An input layer's size is defined by the dimension of the input, so for data with three-dimensional input there would be 3 nodes in the input layer. For the output layer if we are doing binary classification or regression, then there is one node. If we are doing multi-class classification, there is a node for each class.\n",
    "\n",
    "At each layer, $l$, there is a weight matrix ($W_{(l)}$) and bias vector ($b_{(l)}$). These are what the model aims to itertaively train and tune.\n",
    "\n",
    "<img src=\"images/shl_nn_diagram.png\" alt=\"shl_diagram\" height=\"35%\" width=\"35%\">\n",
    "\n",
    "## Forward Propagation\n",
    "\n",
    "Forward propagation is the process of feeding data through the NN to make generate an output. The general structure of the process is as follows:    \n",
    "$z_i = W^{T}x + b$    \n",
    "$a_i = f(z_i)$    \n",
    "As mentioned earlier, these two steps are sometimes called ***pre-activation*** and ***post-activation*** for computing the $z_i$ and $a_i$. There are many options for the activations functions $f(\\cdot)$. For the hidden layers, common activations functions used are `ReLU`, `sigmoid`, and `tanh`. The activation function for the output layer depends upon the problem being solved. \n",
    "- Regression: `linear` activation\n",
    "- Binary classification: `sigmoid` acitvation\n",
    "- Multi-class classification: `softmax` activation\n",
    "\n",
    "## Loss\n",
    "\n",
    "Using a loss function allows the network to keep track of how well it's doing. It generally shows how far we are from the 'ideal' solution. The choice of a loss function also depends upon the type of problem. For example, a regression model will typically use mean squared error for the loss while a classification model will use cross-entropy.\n",
    "\n",
    "## Backward Propagation\n",
    "\n",
    "Backward propagation is the process of taking the loss from forward propagation and using it to compute the gradients of our weights and biases. As the name suggests, instead of starting at the first layer and progressing to the last layer as we did in forward propagation, we are going to start at the output layer and move towards the input layer. This involves some differential calculus, but if we chose our output activation and loss function wisely it is significantly easier (as was described in the Loss section). I won't go into the nitty-gritty details of the derivation, but it's important to understand that $dW$ and $db$ are partial derivatives of the loss function, and can be found using the chain rule. The dimensions of the gradients are going to be the same as $W$ and $b$. The sequence of equations are as follows:    \n",
    "$dW_{l} = \\frac{\\partial L}{\\partial W_{l}} = dZ_{l}A_{l-1}^T$    \n",
    "$db_{l} = \\frac{\\partial L}{\\partial b_{l}} = dZ_{l}$    \n",
    "$dA_{l-1} = \\frac{\\partial L}{\\partial A_{l-1}} = W_{l}dZ_{l}$    \n",
    "$dZ_{l} = \\frac{\\partial L}{\\partial Z_{l}} = dA_{l}f'(Z_{l})$    \n",
    "In the last of these equations, we see $f'(\\cdot)$. This is the derivative of the activation function used at this layer. These derivative functions are well-defined, and the only hiccup is for the output layer. $dZ$ for the output layer is $dZ = \\hat{y} - y$ where $\\hat{y}$ is the final $A$ coming from forward propagation and $y$ is our set of true labels. Of course, this only works when we pair our loss and output activations wisely. Otherwise, it is more complicated and outside the scope of this notebook.\n",
    "\n",
    "## Gradient Descent\n",
    "\n",
    "Doing backward propagation provided us with the gradients, and now we need to use that information to update our weights and biases. We will do this by taking a small step in the direction of the negative gradient. The equations for updating our weights and biases with gradient descent are the following:    \n",
    "$W_{l} = W_{l} - \\alpha dW_{l}$    \n",
    "$b_{l} = b_{l} - \\alpha db_{l}$    \n",
    "So at each layer, $l$, we update $W$ and $b$ by moving in the direction of ***steepest descent*** in hopes of settling into a local minumum. The step size $\\alpha$ is a hyperparameter that needs to be tuned. By using too large of a step size, the NN will be chaotic and won't be able to find a minimum. Setting it too small means that the model will learn too slowly, and will take forever to reach a minimum. Because of this, there are techniques of learning rate decay, where the model starts at a larger value and decreases over time to increase the chances of settling into a better minimum. \n",
    "\n",
    "## Resources\n",
    "\n",
    "- [Pattern Recognition and Machine Learning](https://www.microsoft.com/en-us/research/uploads/prod/2006/01/Bishop-Pattern-Recognition-and-Machine-Learning-2006.pdf)\n",
    "- [Image](https://lassehansen.me/post/neural-networks-step-by-step/)\n",
    "- [Tensorflow](https://www.tensorflow.org/api_docs/python/tf/keras/Sequential)\n",
    "- I-Cheng Yeh, \"Modeling of strength of high performance concrete using artificial neural networks,\" Cement and Concrete Research, Vol. 28, No. 12, pp. 1797-1808 (1998)\n",
    "\n",
    "\n",
    "\n",
    "## Example using `Sequential` model from `TensorFlow.keras`"
   ]
  },
  {
   "cell_type": "markdown",
   "metadata": {},
   "source": [
    "#### Import Libraries"
   ]
  },
  {
   "cell_type": "code",
   "execution_count": 49,
   "metadata": {},
   "outputs": [],
   "source": [
    "import pandas as pd\n",
    "from sklearn.model_selection import train_test_split\n",
    "from tensorflow import keras\n",
    "from keras import Sequential\n",
    "from keras.layers import Dense\n",
    "from keras.optimizers import Adam\n",
    "from keras.losses import MeanAbsoluteError"
   ]
  },
  {
   "cell_type": "markdown",
   "metadata": {},
   "source": [
    "The data we are using is Concrete Compressive Strength. It contains no null values, 8 continuous features, and the target is Concrete Compressive Strength. We will use it to demonstrate basic usage of a feed-forward NN. "
   ]
  },
  {
   "cell_type": "code",
   "execution_count": 12,
   "metadata": {},
   "outputs": [
    {
     "name": "stdout",
     "output_type": "stream",
     "text": [
      "<class 'pandas.core.frame.DataFrame'>\n",
      "RangeIndex: 1030 entries, 0 to 1029\n",
      "Data columns (total 9 columns):\n",
      " #   Column                                                 Non-Null Count  Dtype  \n",
      "---  ------                                                 --------------  -----  \n",
      " 0   Cement (component 1)(kg in a m^3 mixture)              1030 non-null   float64\n",
      " 1   Blast Furnace Slag (component 2)(kg in a m^3 mixture)  1030 non-null   float64\n",
      " 2   Fly Ash (component 3)(kg in a m^3 mixture)             1030 non-null   float64\n",
      " 3   Water  (component 4)(kg in a m^3 mixture)              1030 non-null   float64\n",
      " 4   Superplasticizer (component 5)(kg in a m^3 mixture)    1030 non-null   float64\n",
      " 5   Coarse Aggregate  (component 6)(kg in a m^3 mixture)   1030 non-null   float64\n",
      " 6   Fine Aggregate (component 7)(kg in a m^3 mixture)      1030 non-null   float64\n",
      " 7   Age (day)                                              1030 non-null   int64  \n",
      " 8   Concrete compressive strength(MPa, megapascals)        1030 non-null   float64\n",
      "dtypes: float64(8), int64(1)\n",
      "memory usage: 72.5 KB\n"
     ]
    }
   ],
   "source": [
    "concrete = pd.read_excel(r'data/Concrete_Data.xls')\n",
    "\n",
    "concrete.info()"
   ]
  },
  {
   "cell_type": "code",
   "execution_count": 19,
   "metadata": {},
   "outputs": [],
   "source": [
    "X = concrete.copy()\n",
    "y = X.pop(\"Concrete compressive strength(MPa, megapascals) \")\n",
    "\n",
    "X_train, X_test, y_train, y_test = train_test_split(X, y, train_size=0.8, shuffle=True)\n"
   ]
  },
  {
   "cell_type": "markdown",
   "metadata": {},
   "source": [
    "There are a few basic hyperparameters that we want to define. In most cases, spending time to tune these can lead to scoring significantly better."
   ]
  },
  {
   "cell_type": "code",
   "execution_count": 41,
   "metadata": {},
   "outputs": [],
   "source": [
    "learnrate = 1e-3\n",
    "epochs = 1000\n",
    "batchsize = 16\n",
    "verbose = 0 # stops output\n",
    "input_shape = X_train.shape[1]"
   ]
  },
  {
   "cell_type": "markdown",
   "metadata": {},
   "source": [
    "For our simple model, we will define 3 hidden layers, each using ReLU for the hidden activation.  "
   ]
  },
  {
   "cell_type": "code",
   "execution_count": 52,
   "metadata": {},
   "outputs": [
    {
     "data": {
      "text/plain": [
       "<Axes: >"
      ]
     },
     "execution_count": 52,
     "metadata": {},
     "output_type": "execute_result"
    },
    {
     "data": {
      "image/png": "[encoded data removed]",
      "text/plain": [
       "<Figure size 640x480 with 1 Axes>"
      ]
     },
     "metadata": {},
     "output_type": "display_data"
    }
   ],
   "source": [
    "model = Sequential([Dense(units=32, activation='relu', input_shape=[input_shape]),\n",
    "                    Dense(units=64, activation='relu'),\n",
    "                    Dense(units=32, activation='relu'),\n",
    "                    Dense(units=1)])\n",
    "model.compile(optimizer=Adam(), loss=MeanAbsoluteError())\n",
    "history = model.fit(X_train, y_train, batch_size=batchsize, epochs=epochs, verbose=verbose)\n",
    "\n",
    "history_df = pd.DataFrame(history.history)\n",
    "# use Pandas native plot method\n",
    "history_df['loss'].plot()"
   ]
  },
  {
   "cell_type": "code",
   "execution_count": 54,
   "metadata": {},
   "outputs": [
    {
     "name": "stdout",
     "output_type": "stream",
     "text": [
      "7/7 [==============================] - 0s 2ms/step - loss: 3.4942\n"
     ]
    },
    {
     "data": {
      "text/plain": [
       "3.4941794872283936"
      ]
     },
     "execution_count": 54,
     "metadata": {},
     "output_type": "execute_result"
    }
   ],
   "source": [
    "model.evaluate(X_test, y_test)"
   ]
  }
 ],
 "metadata": {
  "kernelspec": {
   "display_name": "Python 3",
   "language": "python",
   "name": "python3"
  },
  "language_info": {
   "codemirror_mode": {
    "name": "ipython",
    "version": 3
   },
   "file_extension": ".py",
   "mimetype": "text/x-python",
   "name": "python",
   "nbconvert_exporter": "python",
   "pygments_lexer": "ipython3",
   "version": "3.10.11"
  },
  "orig_nbformat": 4
 },
 "nbformat": 4,
 "nbformat_minor": 2
}
