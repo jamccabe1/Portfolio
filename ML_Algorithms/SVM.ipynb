{
 "cells": [
  {
   "cell_type": "markdown",
   "metadata": {},
   "source": [
    "# Support Vector Machines (SVMs)\n",
    "\n",
    "Author: Jacob McCabe\n",
    "\n",
    "## Overview\n",
    "\n",
    "This notebook will take a look at Support Vector Machines for the purpose of classification. The main ideas covered will include:\n",
    "\n",
    "1. The main idea behind SVMs\n",
    "2. Primal Problem\n",
    "3. Dual Problem\n",
    "4. Kernel Functions\n",
    "5. Multiclass SVMs\n",
    "6. Example using `SVC` from `scikit-learn`\n",
    "\n",
    "## What is a SVM?\n",
    "\n",
    "Support Vector Machines are a category of non-probabilistic, supervised learning algorithms for binary classification. They work by fitting a hyperplane between classes, and are trained by finding the hyperplane that maximizes the margin. Margin is the distance between the decision boundary and closest data point. Those points that are closest to the decision boundary and thus define the margin are referred to as support vectors.\n",
    "\n",
    "<img src=\"images\\svm_visualization.png\" height='50%' width='50%'>\n",
    "\n",
    "\n",
    "One of the important properties of this class of algorithms is that they are equivalent to solving a convex optimization problem, so any local solution is also a global optimum. When it comes to solving for the optimum, there are a few different flavors of SVMs.\n",
    "\n",
    "If the classes are linearly seperable, we call this a **hard margin**. This is the case where all of class 0 falls on one side of the hyperplane and all of class 1 is on the other side. If the classes are not linearly seperable, it is a **soft margin**. In this case there are points in a class that fall on the wrong side of the hyperplane and a hyperparameter $C$ is needed to penalize the model based on how far over the boundary a point is. The soft margin problem also requires slack variables, $\\xi$. These are scalar quantities representing how much a specific point has intruded into the margin. \n",
    "\n",
    "Within the hard and soft margin problems, there are two types of problems to consider: primal and dual.\n",
    "\n",
    "## Primal Problems\n",
    "\n",
    "The primal problem, the primal problem is more computationally efficient when the dimension of the data is significantly less than the number of observations. The objective function for the primal problem looks like this:\n",
    "\n",
    "$\\text{argmin}_{w,b,\\xi} \\frac{1}{2}||w||^2 + C\\sum^{N}_{i=1}\\xi_{i}$    \n",
    "subject to $y_{i}(w^T\\phi(x_i)+b) \\ge 1-\\xi \\forall i\\in[1,N]$ and $\\xi_{i}\\ge 0 \\forall i\\in [1,N]$.\n",
    "\n",
    "Here, $C > 0$ is a hyperparameter defined in the soft margin problem. As $C$ nears infinity, the model behaves more like a hard margin problem. With regards to $\\xi$, if all $\\xi_{i} = 0$, it is a hard margin problem. Only if there exists some $\\xi_{i} > 0$ is it a soft margin. $N$ is the number of data points in the training set and $\\phi$ is a fixed feature-space transformation that increases the dimensionality of $x$.\n",
    "\n",
    "## Dual Problems\n",
    "\n",
    "Unlike the primal problem, the dual problem is more efficient when the number of observations is significantly less than the dimension of the data. This is the case where SVMs stand out most from other algorithms. There is an important bit of notation to be aware of here: $\\alpha_{i}$ is an index into the vector $\\alpha$ and $y_{(i)}$ is the $i$ index into the dataset. The objective function for the dual problem looks like:\n",
    "\n",
    "$\\text{argmax}_{\\alpha} \\sum^{N}_{i=1}\\alpha_{i} - \\frac{1}{2}\\sum^{N}_{i=1}\\sum^{N}_{j=1}\\alpha_{i}\\alpha_{j}y_{(i)}y_{(j)}\\frac{\\phi(x_{(i)})^{T}\\phi(x_{(j)})}{K(x_{(i)},x_{(j)})}$    \n",
    "subject to $0 \\le \\alpha_{i}\\le C \\forall i\\in[1,N]$ and $\\sum^{N}_{i=1}\\alpha_{i}y_{(i)} = 0$.\n",
    "\n",
    "Here we are maximizing each $\\alpha_{i}$ individually as if its a set of $N$ scalars, not maximizing $||\\alpha||$. It's worth noting that unlike in the primal problem, there is no $\\xi$ but $C$ still shows up in the constraints. $K$ is a kernel function that we will talk about in the next section. Once we have our maximized $\\alpha$, we are able to solve for $w$ and $b$.\n",
    "\n",
    "$w = \\sum^{N}_{i=1}\\alpha_{i}y_{(i)}x_{(i)}$    \n",
    "$b = y_{(i)} - w^{T}x_{(i)}$\n",
    "\n",
    "In the dual problem, $\\alpha_{i}>0$ if and only if $x_{(i)}$ is on the margin (i.e. a support vector). In general, you will find that $\\alpha$ is sparse since there are typically only a few support vectors. Also, while $w$ and $b$ are unique (convex optimization), $\\alpha$ is not guaranteed to be unique.\n",
    "\n",
    "A key names:\n",
    "- **Margin Support Vectors**: $\\alpha_{i}>0$ and $\\xi_{i}=0$\n",
    "- **Non-Margin Support Vectors**: $\\alpha_{i}>0$ and $\\xi_{i}>0$\n",
    "- **Non-Support Vectors**: $\\alpha_{i}=0$ and $\\xi_{i}=0$\n",
    "\n",
    "\n",
    "## Kernel Functions\n",
    "\n",
    "The purpose of a kernel function is to take the training data and project it into higher dimensional space, typically for the purpose of making a non-linear decision boundary. A few of the flavors include:\n",
    "\n",
    "- **Linear Kernel**: Used for a linear boundary.    \n",
    "$K(x,z) = x^(T)z$\n",
    "\n",
    "- **Polynomial Kernel**: Used for creading a $d$-order polynomial expansion.    \n",
    "$K(x,z) = (x^{T}z + 1)^{d}$, where $d$ is a hyperparameter.\n",
    "\n",
    "- **Gaussian Radial Basis Function Kernel (RBF)**: Used for mapping points into an infinite number of dimensions.    \n",
    "$K(x,z) = exp\\{\\frac{-||x-z||^{2}_{2}}{2\\sigma^{2}} \\}$, where $\\sigma$ is a hyperparameter.\n",
    "\n",
    "## Multiclass SVMs for C classes\n",
    "Although I said that SVMs are binary classifiers, there are ways to make it work for multiple classes.\n",
    "- **One vs. Rest**: Train $C$ binary SVMs where each one is class $i$ versus all other classes. The drawbacks of this are that you have to train $C$ models on all $N$ data points, which is computationally expensive, and the classes are highly imbalanced.\n",
    "\n",
    "- **One vs. One**: Train $\\frac{C(C-1)}{2}$ binary SVMs, i.e. every possible pairing of classes. Classify test points based on which class has the majority. The drawbacks of this are that it is a lot of classifiers to train, making it even more inefficient. Also, it requires a decision on how to handle ties \n",
    "\n",
    "## References\n",
    "\n",
    "- [Pattern Recognition and Machine Learning](https://www.microsoft.com/en-us/research/uploads/prod/2006/01/Bishop-Pattern-Recognition-and-Machine-Learning-2006.pdf)\n",
    "- [Image](https://datascience.stackexchange.com/questions/43180/maximize-the-margin-formula-in-support-vector-machines-algorithm)\n",
    "- S. Moro, R. Laureano and P. Cortez. Using Data Mining for Bank Direct Marketing: An Application of the CRISP-DM Methodology.\n",
    "\n",
    "\n",
    "## Example using `SVC` from `scikit-learn`\n",
    "\n",
    "#### Imports\n",
    "\n"
   ]
  },
  {
   "cell_type": "code",
   "execution_count": 1,
   "metadata": {},
   "outputs": [],
   "source": [
    "import numpy as np\n",
    "import pandas as pd\n",
    "from sklearn.model_selection import train_test_split, RandomizedSearchCV\n",
    "import sklearn.metrics as metrics\n",
    "from sklearn.pipeline import Pipeline\n",
    "from sklearn.preprocessing import StandardScaler\n",
    "from sklearn.svm import SVC\n",
    "import matplotlib.pyplot as plt\n",
    "import seaborn as sns"
   ]
  },
  {
   "cell_type": "markdown",
   "metadata": {},
   "source": [
    "#### Loading Data\n",
    "\n",
    "We will be using the [Bank Marketing Data](https://archive.ics.uci.edu/dataset/222/bank+marketing) [Moro et al., 2011] \n",
    "which can be found on the UC Irvine Machine Learning Repository. \n",
    "\n"
   ]
  },
  {
   "cell_type": "code",
   "execution_count": 2,
   "metadata": {},
   "outputs": [
    {
     "name": "stdout",
     "output_type": "stream",
     "text": [
      "<class 'pandas.core.frame.DataFrame'>\n",
      "RangeIndex: 45211 entries, 0 to 45210\n",
      "Data columns (total 17 columns):\n",
      " #   Column     Non-Null Count  Dtype \n",
      "---  ------     --------------  ----- \n",
      " 0   age        45211 non-null  int64 \n",
      " 1   job        45211 non-null  object\n",
      " 2   marital    45211 non-null  object\n",
      " 3   education  45211 non-null  object\n",
      " 4   default    45211 non-null  object\n",
      " 5   balance    45211 non-null  int64 \n",
      " 6   housing    45211 non-null  object\n",
      " 7   loan       45211 non-null  object\n",
      " 8   contact    45211 non-null  object\n",
      " 9   day        45211 non-null  int64 \n",
      " 10  month      45211 non-null  object\n",
      " 11  duration   45211 non-null  int64 \n",
      " 12  campaign   45211 non-null  int64 \n",
      " 13  pdays      45211 non-null  int64 \n",
      " 14  previous   45211 non-null  int64 \n",
      " 15  poutcome   45211 non-null  object\n",
      " 16  y          45211 non-null  object\n",
      "dtypes: int64(7), object(10)\n",
      "memory usage: 5.9+ MB\n"
     ]
    }
   ],
   "source": [
    "data = pd.read_csv(\"./data/bank_full.csv\",sep=\";\",header=0)\n",
    "data.info()"
   ]
  },
  {
   "cell_type": "code",
   "execution_count": 3,
   "metadata": {},
   "outputs": [
    {
     "data": {
      "text/plain": [
       "Index(['job', 'marital', 'education', 'default', 'housing', 'loan', 'contact',\n",
       "       'month', 'poutcome', 'y'],\n",
       "      dtype='object')"
      ]
     },
     "execution_count": 3,
     "metadata": {},
     "output_type": "execute_result"
    }
   ],
   "source": [
    "objects = data.select_dtypes(include=[\"object\"]).copy()\n",
    "objects.columns\n"
   ]
  },
  {
   "cell_type": "code",
   "execution_count": 4,
   "metadata": {},
   "outputs": [],
   "source": [
    "for idx, lab in enumerate(objects):\n",
    "    data[lab] = data[lab].astype(\"category\")\n",
    "    data[lab] = data[lab].cat.codes"
   ]
  },
  {
   "cell_type": "code",
   "execution_count": 5,
   "metadata": {},
   "outputs": [
    {
     "data": {
      "image/png": "[encoded data removed]",
      "text/plain": [
       "<Figure size 640x480 with 1 Axes>"
      ]
     },
     "metadata": {},
     "output_type": "display_data"
    }
   ],
   "source": [
    "features = data.drop([\"y\"], axis=1)\n",
    "target = data[\"y\"].copy()\n",
    "\n",
    "target.groupby(target).count().plot.bar(ylabel='Count')\n",
    "\n",
    "X_train, X_test, y_train, y_test = train_test_split(features, target, test_size=0.1)"
   ]
  },
  {
   "cell_type": "markdown",
   "metadata": {},
   "source": [
    "Let's create a simple `Pipeline` that will scale the data and fit a standard `SVC`. The default parameters are $C=1.0$, and the RBF kernel with the hyperparameter `1/(n_features * X.var())`."
   ]
  },
  {
   "cell_type": "code",
   "execution_count": 6,
   "metadata": {},
   "outputs": [
    {
     "data": {
      "text/html": [
       "<style>#sk-container-id-1 {color: black;background-color: white;}#sk-container-id-1 pre{padding: 0;}#sk-container-id-1 div.sk-toggleable {background-color: white;}#sk-container-id-1 label.sk-toggleable__label {cursor: pointer;display: block;width: 100%;margin-bottom: 0;padding: 0.3em;box-sizing: border-box;text-align: center;}#sk-container-id-1 label.sk-toggleable__label-arrow:before {content: \"▸\";float: left;margin-right: 0.25em;color: #696969;}#sk-container-id-1 label.sk-toggleable__label-arrow:hover:before {color: black;}#sk-container-id-1 div.sk-estimator:hover label.sk-toggleable__label-arrow:before {color: black;}#sk-container-id-1 div.sk-toggleable__content {max-height: 0;max-width: 0;overflow: hidden;text-align: left;background-color: #f0f8ff;}#sk-container-id-1 div.sk-toggleable__content pre {margin: 0.2em;color: black;border-radius: 0.25em;background-color: #f0f8ff;}#sk-container-id-1 input.sk-toggleable__control:checked~div.sk-toggleable__content {max-height: 200px;max-width: 100%;overflow: auto;}#sk-container-id-1 input.sk-toggleable__control:checked~label.sk-toggleable__label-arrow:before {content: \"▾\";}#sk-container-id-1 div.sk-estimator input.sk-toggleable__control:checked~label.sk-toggleable__label {background-color: #d4ebff;}#sk-container-id-1 div.sk-label input.sk-toggleable__control:checked~label.sk-toggleable__label {background-color: #d4ebff;}#sk-container-id-1 input.sk-hidden--visually {border: 0;clip: rect(1px 1px 1px 1px);clip: rect(1px, 1px, 1px, 1px);height: 1px;margin: -1px;overflow: hidden;padding: 0;position: absolute;width: 1px;}#sk-container-id-1 div.sk-estimator {font-family: monospace;background-color: #f0f8ff;border: 1px dotted black;border-radius: 0.25em;box-sizing: border-box;margin-bottom: 0.5em;}#sk-container-id-1 div.sk-estimator:hover {background-color: #d4ebff;}#sk-container-id-1 div.sk-parallel-item::after {content: \"\";width: 100%;border-bottom: 1px solid gray;flex-grow: 1;}#sk-container-id-1 div.sk-label:hover label.sk-toggleable__label {background-color: #d4ebff;}#sk-container-id-1 div.sk-serial::before {content: \"\";position: absolute;border-left: 1px solid gray;box-sizing: border-box;top: 0;bottom: 0;left: 50%;z-index: 0;}#sk-container-id-1 div.sk-serial {display: flex;flex-direction: column;align-items: center;background-color: white;padding-right: 0.2em;padding-left: 0.2em;position: relative;}#sk-container-id-1 div.sk-item {position: relative;z-index: 1;}#sk-container-id-1 div.sk-parallel {display: flex;align-items: stretch;justify-content: center;background-color: white;position: relative;}#sk-container-id-1 div.sk-item::before, #sk-container-id-1 div.sk-parallel-item::before {content: \"\";position: absolute;border-left: 1px solid gray;box-sizing: border-box;top: 0;bottom: 0;left: 50%;z-index: -1;}#sk-container-id-1 div.sk-parallel-item {display: flex;flex-direction: column;z-index: 1;position: relative;background-color: white;}#sk-container-id-1 div.sk-parallel-item:first-child::after {align-self: flex-end;width: 50%;}#sk-container-id-1 div.sk-parallel-item:last-child::after {align-self: flex-start;width: 50%;}#sk-container-id-1 div.sk-parallel-item:only-child::after {width: 0;}#sk-container-id-1 div.sk-dashed-wrapped {border: 1px dashed gray;margin: 0 0.4em 0.5em 0.4em;box-sizing: border-box;padding-bottom: 0.4em;background-color: white;}#sk-container-id-1 div.sk-label label {font-family: monospace;font-weight: bold;display: inline-block;line-height: 1.2em;}#sk-container-id-1 div.sk-label-container {text-align: center;}#sk-container-id-1 div.sk-container {/* jupyter's `normalize.less` sets `[hidden] { display: none; }` but bootstrap.min.css set `[hidden] { display: none !important; }` so we also need the `!important` here to be able to override the default hidden behavior on the sphinx rendered scikit-learn.org. See: https://github.com/scikit-learn/scikit-learn/issues/21755 */display: inline-block !important;position: relative;}#sk-container-id-1 div.sk-text-repr-fallback {display: none;}</style><div id=\"sk-container-id-1\" class=\"sk-top-container\"><div class=\"sk-text-repr-fallback\"><pre>Pipeline(steps=[(&#x27;scaler&#x27;, StandardScaler()), (&#x27;rbf_svm&#x27;, SVC())])</pre><b>In a Jupyter environment, please rerun this cell to show the HTML representation or trust the notebook. <br />On GitHub, the HTML representation is unable to render, please try loading this page with nbviewer.org.</b></div><div class=\"sk-container\" hidden><div class=\"sk-item sk-dashed-wrapped\"><div class=\"sk-label-container\"><div class=\"sk-label sk-toggleable\"><input class=\"sk-toggleable__control sk-hidden--visually\" id=\"sk-estimator-id-1\" type=\"checkbox\" ><label for=\"sk-estimator-id-1\" class=\"sk-toggleable__label sk-toggleable__label-arrow\">Pipeline</label><div class=\"sk-toggleable__content\"><pre>Pipeline(steps=[(&#x27;scaler&#x27;, StandardScaler()), (&#x27;rbf_svm&#x27;, SVC())])</pre></div></div></div><div class=\"sk-serial\"><div class=\"sk-item\"><div class=\"sk-estimator sk-toggleable\"><input class=\"sk-toggleable__control sk-hidden--visually\" id=\"sk-estimator-id-2\" type=\"checkbox\" ><label for=\"sk-estimator-id-2\" class=\"sk-toggleable__label sk-toggleable__label-arrow\">StandardScaler</label><div class=\"sk-toggleable__content\"><pre>StandardScaler()</pre></div></div></div><div class=\"sk-item\"><div class=\"sk-estimator sk-toggleable\"><input class=\"sk-toggleable__control sk-hidden--visually\" id=\"sk-estimator-id-3\" type=\"checkbox\" ><label for=\"sk-estimator-id-3\" class=\"sk-toggleable__label sk-toggleable__label-arrow\">SVC</label><div class=\"sk-toggleable__content\"><pre>SVC()</pre></div></div></div></div></div></div></div>"
      ],
      "text/plain": [
       "Pipeline(steps=[('scaler', StandardScaler()), ('rbf_svm', SVC())])"
      ]
     },
     "execution_count": 6,
     "metadata": {},
     "output_type": "execute_result"
    }
   ],
   "source": [
    "pipe_steps = [(\"scaler\", StandardScaler()), (\"rbf_svm\", SVC())]\n",
    "basic_pipe = Pipeline(pipe_steps)\n",
    "basic_pipe.fit(X_train, y_train)"
   ]
  },
  {
   "cell_type": "code",
   "execution_count": 7,
   "metadata": {},
   "outputs": [
    {
     "name": "stdout",
     "output_type": "stream",
     "text": [
      "Training Score: 0.906\n",
      "Test Score: 0.9\n"
     ]
    }
   ],
   "source": [
    "training_score = basic_pipe.score(X_train, y_train)\n",
    "test_score = basic_pipe.score(X_test, y_test)\n",
    "print(f\"Training Score: {round(training_score, 3)}\")\n",
    "print(f\"Test Score: {round(test_score, 3)}\")"
   ]
  },
  {
   "cell_type": "markdown",
   "metadata": {},
   "source": [
    "This is a pretty good classification for a simple model. Let's try tuning the parameter - modifying the regularization parameter $C$ and kernel function."
   ]
  },
  {
   "cell_type": "code",
   "execution_count": 8,
   "metadata": {},
   "outputs": [],
   "source": [
    "params = {\n",
    "    \"rbf_svm__C\" : [0.1,1,10,100]\n",
    "}\n",
    "\n",
    "tune_C = RandomizedSearchCV(basic_pipe, param_distributions=params, random_state=10)\n",
    "\n",
    "## Uncomment to run the random search, however it takes quite a bit of time to run.\n",
    "#tune_C.fit(X_train, y_train)\n",
    "#tune_pipe = tune_C.best_estimator_\n",
    "#tune_C.best_params_\n",
    "#C=10"
   ]
  },
  {
   "cell_type": "code",
   "execution_count": 9,
   "metadata": {},
   "outputs": [
    {
     "name": "stdout",
     "output_type": "stream",
     "text": [
      "Training Score: 0.925\n",
      "Test Score: 0.903\n"
     ]
    }
   ],
   "source": [
    "pipe_steps = [(\"scaler\", StandardScaler()), (\"rbf_svm\", SVC(C=10))]\n",
    "basic_pipe = Pipeline(pipe_steps)\n",
    "basic_pipe.fit(X_train, y_train)\n",
    "\n",
    "training_score = basic_pipe.score(X_train, y_train)\n",
    "test_score = basic_pipe.score(X_test, y_test)\n",
    "print(f\"Training Score: {round(training_score, 3)}\")\n",
    "print(f\"Test Score: {round(test_score, 3)}\")"
   ]
  },
  {
   "cell_type": "markdown",
   "metadata": {},
   "source": [
    "As we can see, there is hardly a change in accuracy between models."
   ]
  }
 ],
 "metadata": {
  "kernelspec": {
   "display_name": "Python 3",
   "language": "python",
   "name": "python3"
  },
  "language_info": {
   "codemirror_mode": {
    "name": "ipython",
    "version": 3
   },
   "file_extension": ".py",
   "mimetype": "text/x-python",
   "name": "python",
   "nbconvert_exporter": "python",
   "pygments_lexer": "ipython3",
   "version": "3.10.11"
  },
  "orig_nbformat": 4
 },
 "nbformat": 4,
 "nbformat_minor": 2
}
