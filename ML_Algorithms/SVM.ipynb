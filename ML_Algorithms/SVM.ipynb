{
 "cells": [
  {
   "cell_type": "markdown",
   "metadata": {},
   "source": [
    "# Support Vector Machines (SVMs)\n",
    "\n",
    "Author: Jacob McCabe\n",
    "\n",
    "### Overview\n",
    "\n",
    "This notebook will take a look at Support Vector Machines for the purpose of classification. The main ideas covered will include:\n",
    "\n",
    "1. The main idea behind SVMs\n",
    "2. Hard Margin Problems\n",
    "3. Soft Margin Problems\n",
    "4. Kernel Functions\n",
    "5. Example using `SVC` from `skikit-learn`\n",
    "\n",
    "### What is a SVM?\n",
    "\n",
    "Support Vector Machines are a category of non-probabilistic, supervised learning algorithms for binary classification. They work by fitting a hyperplane between classes, and are trained by finding the hyperplane that maximizes the margin. Margin is the distance between the decision boundary and closest data point. Those points that are closest to the decision boundary and thus define the margin are referred to as support vectors.\n",
    "\n",
    "![A visualization of margin and support vectors.](images\\svm_visualization.png)\n",
    "\n",
    "\n",
    "One of the important properties of this class of algorithms is that they are equivalent to solving a convex optimization problem, so any local solution is also a global optimum. Before getting to the objective function, let's define things mathematically.\n",
    "\n",
    "Recall that the goal is to find the hyperplane representing the decision boundary\n",
    "\n",
    "\n",
    "### Hard Margin Problems\n",
    "\n",
    "\n",
    "\n",
    "### Soft Margin Problems\n",
    "\n",
    "\n",
    "\n",
    "### Kernel Functions\n",
    "\n",
    "\n",
    "\n",
    "### Example using `SVC` from `skikit-learn`\n",
    "\n"
   ]
  },
  {
   "cell_type": "code",
   "execution_count": null,
   "metadata": {},
   "outputs": [],
   "source": []
  }
 ],
 "metadata": {
  "kernelspec": {
   "display_name": "Python 3",
   "language": "python",
   "name": "python3"
  },
  "language_info": {
   "name": "python",
   "version": "3.10.11"
  },
  "orig_nbformat": 4
 },
 "nbformat": 4,
 "nbformat_minor": 2
}
